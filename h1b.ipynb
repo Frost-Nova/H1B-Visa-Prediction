{
 "cells": [
  {
   "cell_type": "code",
   "execution_count": 1,
   "metadata": {
    "scrolled": true
   },
   "outputs": [
    {
     "name": "stdout",
     "output_type": "stream",
     "text": [
      "<class 'pandas.core.frame.DataFrame'>\n",
      "RangeIndex: 52439 entries, 0 to 52438\n",
      "Data columns (total 11 columns):\n",
      "CASE_STATUS           52439 non-null object\n",
      "EMPLOYER_NAME         52439 non-null object\n",
      "SOC_NAME              52439 non-null object\n",
      "JOB_TITLE             52439 non-null object\n",
      "FULL_TIME_POSITION    52439 non-null object\n",
      "PREVAILING_WAGE       52439 non-null float64\n",
      "YEAR                  52439 non-null float64\n",
      "lon                   52439 non-null float64\n",
      "lat                   52439 non-null float64\n",
      "CITY                  52439 non-null object\n",
      "STATE                 52439 non-null object\n",
      "dtypes: float64(4), object(7)\n",
      "memory usage: 4.4+ MB\n"
     ]
    }
   ],
   "source": [
    "import numpy as np\n",
    "import pandas as pd\n",
    "import matplotlib\n",
    "\n",
    "from matplotlib import pyplot as plt\n",
    "%matplotlib inline\n",
    "\n",
    "h1b = pd.read_csv('data_virginia_clean_all.csv')\n",
    "#random_index = np.random.choice(len(data.index), 1000000, replace=False)\n",
    "#h1b = data.iloc[random_index].drop('Unnamed: 0', axis=1)\n",
    "h1b.info()\n",
    "#h1b['CASE_STATUS'].value_counts()"
   ]
  },
  {
   "cell_type": "code",
   "execution_count": 2,
   "metadata": {},
   "outputs": [],
   "source": [
    "#h1b['EMPLOYER_NAME'].value_counts()"
   ]
  },
  {
   "cell_type": "code",
   "execution_count": 2,
   "metadata": {},
   "outputs": [
    {
     "ename": "NameError",
     "evalue": "name 'temp_data' is not defined",
     "output_type": "error",
     "traceback": [
      "\u001b[0;31m---------------------------------------------------------------------------\u001b[0m",
      "\u001b[0;31mNameError\u001b[0m                                 Traceback (most recent call last)",
      "\u001b[0;32m<ipython-input-2-87a9bb2d2798>\u001b[0m in \u001b[0;36m<module>\u001b[0;34m()\u001b[0m\n\u001b[1;32m     23\u001b[0m         \u001b[0;32mcontinue\u001b[0m\u001b[0;34m\u001b[0m\u001b[0m\n\u001b[1;32m     24\u001b[0m     \u001b[0;32melse\u001b[0m\u001b[0;34m:\u001b[0m\u001b[0;34m\u001b[0m\u001b[0m\n\u001b[0;32m---> 25\u001b[0;31m         \u001b[0mtemp_data\u001b[0m\u001b[0;34m.\u001b[0m\u001b[0mappend\u001b[0m\u001b[0;34m(\u001b[0m\u001b[0mrow\u001b[0m\u001b[0;34m)\u001b[0m\u001b[0;34m\u001b[0m\u001b[0m\n\u001b[0m\u001b[1;32m     26\u001b[0m \u001b[0;31m#h1b = pd.DataFrame(temp_data)\u001b[0m\u001b[0;34m\u001b[0m\u001b[0;34m\u001b[0m\u001b[0m\n\u001b[1;32m     27\u001b[0m \u001b[0;31m#h1b.head()\u001b[0m\u001b[0;34m\u001b[0m\u001b[0;34m\u001b[0m\u001b[0m\n",
      "\u001b[0;31mNameError\u001b[0m: name 'temp_data' is not defined"
     ]
    }
   ],
   "source": [
    "import collections\n",
    "from heapq import heapify, heappush,heappop\n",
    "def key_words(s):\n",
    "    temp=[]\n",
    "    data=list(h1b[s])\n",
    "    for one in data:\n",
    "        t=one.split()\n",
    "        for c in t:\n",
    "            temp.append(c)\n",
    "    count=collections.Counter(temp)\n",
    "    return count\n",
    "title_freq=key_words('JOB_TITLE')\n",
    "full_time_freq=key_words('FULL_TIME_POSITION')\n",
    "# sort_r=[]\n",
    "# for k,v in r.items():\n",
    "#     sort_r.append((v,k))\n",
    "\n",
    "#temp_data=[]\n",
    "for index, row in h1b.iterrows():\n",
    "    full_time=row['FULL_TIME_POSITION']\n",
    "    title=row['JOB_TITLE']\n",
    "    if title_freq[title]==1 or full_time_freq[full_time]==1:\n",
    "        continue\n",
    "    else:\n",
    "        temp_data.append(row)\n",
    "#h1b = pd.DataFrame(temp_data)\n",
    "#h1b.head()"
   ]
  },
  {
   "cell_type": "code",
   "execution_count": 3,
   "metadata": {},
   "outputs": [],
   "source": [
    "CERTIFIED_h1b=[]\n",
    "CERTIFIED_WITHDRAWN_h1b=[]\n",
    "DENIED_h1b=[]\n",
    "WITHDRAWN_h1b=[]\n",
    "count = 0\n",
    "for index, row in h1b.iterrows():\n",
    "    if row['CASE_STATUS']=='CERTIFIED':\n",
    "        if count%2==0:\n",
    "            CERTIFIED_h1b.append(row)\n",
    "        count += 1\n",
    "    elif row['CASE_STATUS']=='CERTIFIED-WITHDRAWN':\n",
    "        CERTIFIED_WITHDRAWN_h1b.append(row)\n",
    "    elif row['CASE_STATUS']=='DENIED':\n",
    "        DENIED_h1b.append(row)\n",
    "    elif row['CASE_STATUS']=='WITHDRAWN':\n",
    "        WITHDRAWN_h1b.append(row)\n"
   ]
  },
  {
   "cell_type": "code",
   "execution_count": 4,
   "metadata": {},
   "outputs": [],
   "source": [
    "FAIL_h1b=[]\n",
    "for index, row in h1b.iterrows():\n",
    "    if row['CASE_STATUS']=='CERTIFIED':\n",
    "        continue\n",
    "    else:\n",
    "        t=row\n",
    "        t['CASE_STATUS']='FAIL'\n",
    "        FAIL_h1b.append(t)"
   ]
  },
  {
   "cell_type": "code",
   "execution_count": 5,
   "metadata": {},
   "outputs": [
    {
     "data": {
      "text/plain": [
       "CERTIFIED    23185\n",
       "FAIL          6070\n",
       "Name: CASE_STATUS, dtype: int64"
      ]
     },
     "execution_count": 5,
     "metadata": {},
     "output_type": "execute_result"
    }
   ],
   "source": [
    "prepared_h1b = pd.DataFrame(FAIL_h1b+CERTIFIED_h1b)\n",
    "prepared_h1b['CASE_STATUS'].value_counts()"
   ]
  },
  {
   "cell_type": "code",
   "execution_count": 5,
   "metadata": {},
   "outputs": [],
   "source": [
    "# CERTIFIED_h1b=pd.DataFrame(CERTIFIED_h1b)\n",
    "# CERTIFIED_WITHDRAWN_h1b=pd.DataFrame(CERTIFIED_WITHDRAWN_h1b)\n",
    "# DENIED_h1b=pd.DataFrame(DENIED_h1b)\n",
    "# WITHDRAWN_h1b=pd.DataFrame(WITHDRAWN_h1b)"
   ]
  },
  {
   "cell_type": "code",
   "execution_count": 6,
   "metadata": {},
   "outputs": [
    {
     "name": "stdout",
     "output_type": "stream",
     "text": [
      "(23404, 367) (5851, 367)\n"
     ]
    }
   ],
   "source": [
    "from sklearn.model_selection import train_test_split\n",
    "from sklearn.preprocessing import Imputer, StandardScaler, LabelEncoder\n",
    "from sklearn.pipeline import Pipeline, FeatureUnion\n",
    "from sklearn.base import BaseEstimator, TransformerMixin\n",
    "# PCA for dimensionality reduction\n",
    "from sklearn.decomposition import PCA, KernelPCA\n",
    "from sklearn.feature_selection import SelectKBest, chi2\n",
    "\n",
    "#rbf_pca = KernelPCA(n_components=10, kernel='rbf', gamma=0.1)\n",
    "\n",
    "class DataFrameSelector(BaseEstimator, TransformerMixin):\n",
    "    def __init__(self, attribute_names):\n",
    "        self.attribute_names =attribute_names\n",
    "    def fit(self,X,y=None):\n",
    "        return self\n",
    "    def transform(self,X):\n",
    "        return X[self.attribute_names].values\n",
    "\n",
    "class CustomLabelBinarizer(BaseEstimator, TransformerMixin):\n",
    "    \"\"\"Perform one-hot encoding to categorical features.\"\"\"\n",
    "    def __init__(self, cat_features):\n",
    "        self.cat_features = cat_features\n",
    "\n",
    "    def fit(self, X_cat, y=None):\n",
    "        return self\n",
    "\n",
    "    def transform(self, X_cat):\n",
    "        X_cat_df = pd.DataFrame(X_cat, columns=self.cat_features)\n",
    "        X_onehot_df = pd.get_dummies(X_cat_df, columns=self.cat_features)\n",
    "        return X_onehot_df.values\n",
    "    \n",
    "num_attribs = ['PREVAILING_WAGE', 'YEAR', 'lon','lat']\n",
    "cat_attribs = ['FULL_TIME_POSITION', 'CITY']\n",
    "\n",
    "num_pipeline = Pipeline([\n",
    "    ('selector', DataFrameSelector(num_attribs)),\n",
    "    ('imputer',Imputer(strategy='median')),\n",
    "    ('std_scaler', StandardScaler()),\n",
    "])\n",
    "cat_pipeline1 = Pipeline([\n",
    "    ('selector', DataFrameSelector(cat_attribs)),\n",
    "    ('onehot_encoder', CustomLabelBinarizer(cat_attribs)),\n",
    "])\n",
    "cat_pipeline2 = Pipeline([\n",
    "    ('selector', DataFrameSelector(['JOB_TITLE'])),\n",
    "    ('onehot_encoder', CustomLabelBinarizer(['JOB_TITLE'])),\n",
    "    #('PCA', PCA(n_components = 50)),\n",
    "    ('chi2_select', SelectKBest(chi2, k=100)),\n",
    "])\n",
    "cat_pipeline3 = Pipeline([\n",
    "    ('selector', DataFrameSelector(['EMPLOYER_NAME'])),\n",
    "    ('onehot_encoder', CustomLabelBinarizer(['EMPLOYER_NAME'])),\n",
    "    #('PCA', PCA(n_components = 50)),\n",
    "    ('chi2_select', SelectKBest(chi2, k=100)),\n",
    "])\n",
    "cat_pipeline4 = Pipeline([\n",
    "    ('selector', DataFrameSelector(['SOC_NAME'])),\n",
    "    ('onehot_encoder', CustomLabelBinarizer(['SOC_NAME'])),\n",
    "    #('PCA', PCA(n_components = 50)),\n",
    "    ('chi2_select', SelectKBest(chi2, k=100)),\n",
    "])\n",
    "cat_pipeline = FeatureUnion(transformer_list=[\n",
    "    ('cat_pipeline1', cat_pipeline1),\n",
    "    ('cat_pipeline2', cat_pipeline2),\n",
    "    ('cat_pipeline3', cat_pipeline3),\n",
    "    ('cat_pipeline4', cat_pipeline4),\n",
    "])\n",
    "\n",
    "encoder = LabelEncoder()\n",
    "\n",
    "h1b_X = prepared_h1b.drop('CASE_STATUS', axis=1)\n",
    "h1b_y = 1 - encoder.fit_transform(prepared_h1b['CASE_STATUS'])\n",
    "\n",
    "X_num = num_pipeline.fit_transform(h1b_X)\n",
    "X_cat = cat_pipeline.fit_transform(h1b_X, h1b_y)\n",
    "\n",
    "X = np.concatenate((X_num, X_cat), axis=1)\n",
    "#train_set, test_set = train_test_split(prepared_h1b, test_size=0.2)\n",
    "#train_X = train_set.drop('CASE_STATUS', axis=1)\n",
    "#test_X = test_set.drop('CASE_STATUS', axis=1)\n",
    "\n",
    "#X_test = full_pipeline.transform(test_X)\n",
    "\n",
    "#y_train = 1 - encoder.fit_transform(train_set['CASE_STATUS'])\n",
    "#y_test = 1 - encoder.transform(test_set['CASE_STATUS'])\n",
    "#train_set['CASE_STATUS'].values\n",
    "X_train, X_test, y_train, y_test = train_test_split(X, h1b_y, test_size=0.2)\n",
    "print(X_train.shape, X_test.shape)"
   ]
  },
  {
   "cell_type": "code",
   "execution_count": 14,
   "metadata": {},
   "outputs": [
    {
     "data": {
      "text/plain": [
       "RandomForestClassifier(bootstrap=True, class_weight=None, criterion='gini',\n",
       "            max_depth=None, max_features=200, max_leaf_nodes=None,\n",
       "            min_impurity_decrease=0.0, min_impurity_split=None,\n",
       "            min_samples_leaf=1, min_samples_split=2,\n",
       "            min_weight_fraction_leaf=0.0, n_estimators=800, n_jobs=-1,\n",
       "            oob_score=False, random_state=None, verbose=0,\n",
       "            warm_start=False)"
      ]
     },
     "execution_count": 14,
     "metadata": {},
     "output_type": "execute_result"
    }
   ],
   "source": [
    "# Random Forset Classifier with grid search\n",
    "from sklearn.ensemble import RandomForestClassifier\n",
    "from sklearn.model_selection import GridSearchCV\n",
    "\n",
    "# 800, 200\n",
    "para_grid = [{'n_estimators':[800,1000], 'max_features':[160, 200, 240]}]\n",
    "RF = RandomForestClassifier(n_jobs=-1)\n",
    "grid_search = GridSearchCV(RF, para_grid, cv=5, scoring='f1')\n",
    "grid_search.fit(X_train, y_train)\n",
    "rnd_clf = grid_search.best_estimator_\n",
    "rnd_clf\n",
    "\n",
    "#rnd_clf = RandomForestClassifier(n_estimators=800, max_features=200, n_jobs=-1)\n",
    "#rnd_clf.fit(X_train, y_train)"
   ]
  },
  {
   "cell_type": "code",
   "execution_count": 9,
   "metadata": {},
   "outputs": [
    {
     "data": {
      "text/plain": [
       "SVC(C=0.1, cache_size=200, class_weight=None, coef0=0.0,\n",
       "  decision_function_shape='ovr', degree=3, gamma=0.01, kernel='rbf',\n",
       "  max_iter=-1, probability=False, random_state=None, shrinking=True,\n",
       "  tol=0.001, verbose=False)"
      ]
     },
     "execution_count": 9,
     "metadata": {},
     "output_type": "execute_result"
    }
   ],
   "source": [
    "# SVM Classifier with grid search\n",
    "from sklearn.svm import SVC, LinearSVC\n",
    "from sklearn.model_selection import GridSearchCV\n",
    "\n",
    "# gamma:0.01 , C:0.1\n",
    "para_grid = [{'gamma':[0.01, 0.001], 'C':[0.1, 0.01]}]\n",
    "SVM = SVC(kernel='rbf')\n",
    "grid_search = GridSearchCV(SVM, para_grid, cv=5, scoring='f1')\n",
    "grid_search.fit(X_train, y_train)\n",
    "svm_clf = grid_search.best_estimator_\n",
    "svm_clf\n",
    "\n",
    "#svm_clf = SVC(kernel='rbf', gamma=0.01, C=0.1)\n",
    "#svm_clf.fit(X_train, y_train)"
   ]
  },
  {
   "cell_type": "code",
   "execution_count": 15,
   "metadata": {},
   "outputs": [
    {
     "data": {
      "text/plain": [
       "AdaBoostClassifier(algorithm='SAMME.R',\n",
       "          base_estimator=DecisionTreeClassifier(class_weight=None, criterion='gini', max_depth=1,\n",
       "            max_features=None, max_leaf_nodes=None,\n",
       "            min_impurity_decrease=0.0, min_impurity_split=None,\n",
       "            min_samples_leaf=1, min_samples_split=2,\n",
       "            min_weight_fraction_leaf=0.0, presort=False, random_state=None,\n",
       "            splitter='best'),\n",
       "          learning_rate=0.5, n_estimators=800, random_state=None)"
      ]
     },
     "execution_count": 15,
     "metadata": {},
     "output_type": "execute_result"
    }
   ],
   "source": [
    "# Implementation of Boosting\n",
    "from sklearn.model_selection import GridSearchCV\n",
    "from sklearn.tree import DecisionTreeClassifier\n",
    "from sklearn.ensemble import AdaBoostClassifier#, GradientBoostingRegressor\n",
    "\n",
    "# 800\n",
    "para_grid = [{'n_estimators':[400, 600, 800, 1000]}]\n",
    "ADA = AdaBoostClassifier(DecisionTreeClassifier(max_depth=1), algorithm='SAMME.R',learning_rate=0.5)\n",
    "grid_search = GridSearchCV(ADA, para_grid, cv=5, scoring='f1')\n",
    "grid_search.fit(X_train, y_train)\n",
    "ada_clf = grid_search.best_estimator_\n",
    "ada_clf\n",
    "\n",
    "#ada_clf = AdaBoostClassifier(DecisionTreeClassifier(max_depth=1),n_estimators=800,algorithm='SAMME.R',learning_rate=0.5)\n",
    "#ada_clf.fit(X_train, y_train)"
   ]
  },
  {
   "cell_type": "code",
   "execution_count": 10,
   "metadata": {},
   "outputs": [
    {
     "data": {
      "image/png": "[encoded data removed]",
      "text/plain": [
       "<Figure size 432x288 with 1 Axes>"
      ]
     },
     "metadata": {
      "needs_background": "light"
     },
     "output_type": "display_data"
    }
   ],
   "source": [
    "from sklearn.metrics import roc_curve, confusion_matrix\n",
    "\n",
    "def plot_ROC(y, scores, label):\n",
    "    fpr = []\n",
    "    tpr = []\n",
    "    threshold = np.linspace(min(scores), max(scores), 200)\n",
    "    P = sum(y)\n",
    "    N = len(y) - P\n",
    "    for T in threshold:\n",
    "        FP=0\n",
    "        TP=0\n",
    "        for j in range(len(y)):\n",
    "            if (scores[j] > T):\n",
    "                if (y[j]==1):\n",
    "                    TP += 1\n",
    "                else:\n",
    "                    FP += 1\n",
    "        fpr.append(FP/float(N))\n",
    "        tpr.append(TP/float(P))\n",
    "    #print(tpr,fpr)\n",
    "    plt.plot(fpr, tpr, label=label)\n",
    "    plt.axis([0,1,0,1])\n",
    "    plt.xlabel('False Positive Rate')\n",
    "    plt.ylabel('True Positive Rate')\n",
    "\n",
    "y_scores = svm_clf.decision_function(X_test)\n",
    "#fpr,tpr,t = roc_curve(y_test, y_scores)\n",
    "#plt.plot(fpr, tpr)\n",
    "\n",
    "plot_ROC(y_test, y_scores, 'Gaussian RBF SVM')\n",
    "plt.legend()\n",
    "plt.show()"
   ]
  },
  {
   "cell_type": "code",
   "execution_count": 16,
   "metadata": {},
   "outputs": [
    {
     "name": "stdout",
     "output_type": "stream",
     "text": [
      "Random Forest: F1 0.8907, Precision 0.8575, Recall 0.9266\n",
      "AdaBoost:F1 0.8938, Precision 0.8341, Recall 0.9627\n"
     ]
    }
   ],
   "source": [
    "from sklearn.metrics import accuracy_score, precision_score, recall_score, f1_score\n",
    "\n",
    "# Evaluation metrics\n",
    "\n",
    "#y_pred_SVM = svm_clf.predict(X_test)\n",
    "#f1_SVM = f1_score(y_test, y_pred_SVM)\n",
    "#p_SVM = precision_score(y_test, y_pred_SVM)\n",
    "#r_SVM = recall_score(y_test, y_pred_SVM)\n",
    "\n",
    "y_pred_RF = rnd_clf.predict(X_test)\n",
    "f1_RF = f1_score(y_test, y_pred_RF)\n",
    "p_RF = precision_score(y_test, y_pred_RF)\n",
    "r_RF = recall_score(y_test, y_pred_RF)\n",
    "\n",
    "y_pred_ada = ada_clf.predict(X_test)\n",
    "f1_ada = f1_score(y_test, y_pred_ada)\n",
    "p_ada = precision_score(y_test, y_pred_ada)\n",
    "r_ada = recall_score(y_test, y_pred_ada)\n",
    "\n",
    "#print(\"%.4f %.4f %.4f\"%(f1_SVM, p_SVM, r_SVM))\n",
    "print(\"Random Forest: F1 %.4f, Precision %.4f, Recall %.4f\"%(f1_RF, p_RF, r_RF))\n",
    "print(\"AdaBoost: F1 %.4f, Precision %.4f, Recall %.4f\"%(f1_ada, p_ada, r_ada))"
   ]
  },
  {
   "cell_type": "code",
   "execution_count": 8,
   "metadata": {},
   "outputs": [
    {
     "name": "stdout",
     "output_type": "stream",
     "text": [
      "AdaBoost:F1 0.8841, Precision 0.7923, Recall 1.0000\n"
     ]
    }
   ],
   "source": [
    "from sklearn.metrics import accuracy_score, precision_score, recall_score, f1_score\n",
    "\n",
    "# Evaluation metrics\n",
    "\n",
    "y_pred_SVM = svm_clf.predict(X_test)\n",
    "f1_SVM = f1_score(y_test, y_pred_SVM)\n",
    "p_SVM = precision_score(y_test, y_pred_SVM)\n",
    "r_SVM = recall_score(y_test, y_pred_SVM)\n",
    "\n",
    "print(\"SVM_RBF: F1 %.4f, Precision %.4f, Recall %.4f\"%(f1_SVM, p_SVM, r_SVM))"
   ]
  },
  {
   "cell_type": "code",
   "execution_count": 10,
   "metadata": {},
   "outputs": [
    {
     "data": {
      "image/png": "[encoded data removed]",
      "text/plain": [
       "<Figure size 576x432 with 1 Axes>"
      ]
     },
     "metadata": {
      "needs_background": "light"
     },
     "output_type": "display_data"
    }
   ],
   "source": [
    "\n",
    "# plot comparison\n",
    "def plot_compare(a, b, c):\n",
    "    plt.figure(figsize=(8,6))\n",
    "    plt.figure(1)\n",
    "    index = np.arange(3)\n",
    "    bar_width = 0.1\n",
    "    rects1 = plt.bar(index - bar_width, (a[0],a[1],a[2]), bar_width, color='b', label='RBF Kernel SVM')\n",
    "    rects2 = plt.bar(index, (b[0],b[1],b[2]), bar_width, color='r', label='Random Forest')\n",
    "    rects3 = plt.bar(index + bar_width, (c[0],c[1],c[2]), bar_width, color='g', label='AdaBoost')\n",
    "    plt.axis([-0.5,2.5,0.6,1])\n",
    "    plt.xticks(index, ('F1', 'Precision', 'Recall'))\n",
    "    plt.legend()\n",
    "    plt.tight_layout()\n",
    "    plt.show()\n",
    "\n",
    "SVM=[0.8841, 0.7923, 1]\n",
    "RF=[0.8907, 0.8575, 0.9266]\n",
    "Ada=[0.8938, 0.8341, 0.9627]\n",
    "plot_compare(SVM,RF,Ada)"
   ]
  },
  {
   "cell_type": "code",
   "execution_count": null,
   "metadata": {},
   "outputs": [],
   "source": [
    "def use_state(array):\n",
    "    res=[]\n",
    "    for i in array:\n",
    "        t=i.split(',')[-1].strip()\n",
    "        res.append(t)\n",
    "    return res\n",
    "\n",
    "t=list(h1b['WORKSITE'])\n",
    "x=use_state(t)\n",
    "type(x)\n",
    "h1b['WORKSITE']=pd.DataFrame(x,index=list(h1b.index.values))\n",
    "h1b['WORKSITE'].value_counts()"
   ]
  }
 ],
 "metadata": {
  "kernelspec": {
   "display_name": "Python 3",
   "language": "python",
   "name": "python3"
  },
  "language_info": {
   "codemirror_mode": {
    "name": "ipython",
    "version": 3
   },
   "file_extension": ".py",
   "mimetype": "text/x-python",
   "name": "python",
   "nbconvert_exporter": "python",
   "pygments_lexer": "ipython3",
   "version": "3.7.0"
  }
 },
 "nbformat": 4,
 "nbformat_minor": 2
}
